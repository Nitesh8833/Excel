{
 "cells": [
  {
   "cell_type": "markdown",
   "id": "962e98ba",
   "metadata": {},
   "source": [
    "1.\tWhat is Excel? Why do we use Excel?"
   ]
  },
  {
   "cell_type": "markdown",
   "id": "afca3163",
   "metadata": {},
   "source": [
    "Microsoft Excel is a helpful and powerful program for data analysis and documentation. It is a spreadsheet program, which contains a number of columns and rows, where each intersection of a column and a row is a “cell.” Each cell contains one point of data or one piece of information.\n",
    "We use excel for storing data in tables and analysis of data also."
   ]
  },
  {
   "cell_type": "markdown",
   "id": "21ac002d",
   "metadata": {},
   "source": [
    "2.\tList all the versions of Microsoft excel. Compare excel software provided from multiple vendors."
   ]
  },
  {
   "cell_type": "markdown",
   "id": "318b0139",
   "metadata": {},
   "source": [
    "Excel 365\n",
    "Excel 2019\n",
    "Excel 2016 and 365\n",
    "Excel 2013 (Windows)\n",
    "Excel 2011 (Mac)\n",
    "Excel 2010 (Windows)\n",
    "Excel 2008 (Mac)\n",
    "Excel 2007 (Windows)\n",
    "Excel 2004 (Mac)\n",
    "Excel 2003 (Windows)\n",
    "Older Windows versions (2002, 2000, 97, 95, 4.0, 3.0, 2.0)\n",
    "Older Mac versions (2001, 2000, 98, 5, 4, 3, 2, 1)\n",
    "OS/2 Versions (2.2, 2.3, 3)\n",
    "\n"
   ]
  },
  {
   "cell_type": "code",
   "execution_count": null,
   "id": "0084df8d",
   "metadata": {},
   "outputs": [],
   "source": [
    "3.How to create bar charts in excel, demonstrated with practical examples."
   ]
  },
  {
   "cell_type": "code",
   "execution_count": null,
   "id": "7a7208b3",
   "metadata": {},
   "outputs": [],
   "source": [
    "1. Select the range of row and column.\n",
    "2. On the Insert tab, in the Charts group, click the Column symbol.\n",
    "3.Click Clustered Bar.\n"
   ]
  },
  {
   "cell_type": "code",
   "execution_count": null,
   "id": "9126e186",
   "metadata": {},
   "outputs": [],
   "source": [
    "4.Create an analytics dashboard in python and present your findings."
   ]
  },
  {
   "cell_type": "code",
   "execution_count": null,
   "id": "9897f56d",
   "metadata": {},
   "outputs": [],
   "source": []
  },
  {
   "cell_type": "code",
   "execution_count": null,
   "id": "ca92cf05",
   "metadata": {},
   "outputs": [],
   "source": [
    "5.How to connect Excel with the databases"
   ]
  },
  {
   "cell_type": "code",
   "execution_count": null,
   "id": "ffd684d4",
   "metadata": {},
   "outputs": [],
   "source": [
    "open excel\n",
    "Goto Data Tab\n",
    "Click on \"From other sources\"\n",
    "Input Server Name from sql DB\n",
    "Input Username and Password\n",
    "click next\n",
    "select Table Name from server\n",
    "click finish\n",
    "table will be appear on excel sheet as per your choice"
   ]
  }
 ],
 "metadata": {
  "kernelspec": {
   "display_name": "Python 3",
   "language": "python",
   "name": "python3"
  },
  "language_info": {
   "codemirror_mode": {
    "name": "ipython",
    "version": 3
   },
   "file_extension": ".py",
   "mimetype": "text/x-python",
   "name": "python",
   "nbconvert_exporter": "python",
   "pygments_lexer": "ipython3",
   "version": "3.9.5"
  }
 },
 "nbformat": 4,
 "nbformat_minor": 5
}
